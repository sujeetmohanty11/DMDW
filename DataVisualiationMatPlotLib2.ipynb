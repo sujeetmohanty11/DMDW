{
 "cells": [
  {
   "cell_type": "code",
   "execution_count": 1,
   "metadata": {
    "executionInfo": {
     "elapsed": 1919,
     "status": "ok",
     "timestamp": 1604474197614,
     "user": {
      "displayName": "Sujeet Kumar Mohanty",
      "photoUrl": "https://lh3.googleusercontent.com/a-/AOh14GjwtGccZda7gkTi1H2M4b_PTgZnlp61eAK6Ziuv3DM=s64",
      "userId": "15657594382625014443"
     },
     "user_tz": -330
    },
    "id": "46Uj8SWKGydf"
   },
   "outputs": [],
   "source": [
    "import pandas as pd\n",
    "import matplotlib.pyplot as plt"
   ]
  },
  {
   "cell_type": "code",
   "execution_count": 2,
   "metadata": {
    "executionInfo": {
     "elapsed": 2206,
     "status": "ok",
     "timestamp": 1604474269455,
     "user": {
      "displayName": "Sujeet Kumar Mohanty",
      "photoUrl": "https://lh3.googleusercontent.com/a-/AOh14GjwtGccZda7gkTi1H2M4b_PTgZnlp61eAK6Ziuv3DM=s64",
      "userId": "15657594382625014443"
     },
     "user_tz": -330
    },
    "id": "CDmf8rF6HRx_"
   },
   "outputs": [],
   "source": [
    "data = [['E001', 'M', 34, 123, 'Normal', 350], \n",
    "\t\t['E002', 'F', 40, 114, 'Overweight', 450], \n",
    "\t\t['E003', 'F', 37, 135, 'Obesity', 169], \n",
    "\t\t['E004', 'M', 30, 139, 'Underweight', 189], \n",
    "\t\t['E005', 'F', 44, 117, 'Underweight', 183], \n",
    "\t\t['E006', 'M', 36, 121, 'Normal', 80], \n",
    "\t\t['E007', 'M', 32, 133, 'Obesity', 166], \n",
    "\t\t['E008', 'F', 26, 140, 'Normal', 120], \n",
    "\t\t['E009', 'M', 32, 133, 'Normal', 75], \n",
    "\t\t['E010', 'M', 36, 133, 'Underweight', 40] ] "
   ]
  },
  {
   "cell_type": "code",
   "execution_count": 3,
   "metadata": {
    "executionInfo": {
     "elapsed": 1411,
     "status": "ok",
     "timestamp": 1604474368602,
     "user": {
      "displayName": "Sujeet Kumar Mohanty",
      "photoUrl": "https://lh3.googleusercontent.com/a-/AOh14GjwtGccZda7gkTi1H2M4b_PTgZnlp61eAK6Ziuv3DM=s64",
      "userId": "15657594382625014443"
     },
     "user_tz": -330
    },
    "id": "_ety3JQLHmXn"
   },
   "outputs": [],
   "source": [
    "df = pd.DataFrame(data, columns= ['EMPID', 'Gender', 'Age', 'Sales', 'BMI', 'Income'])"
   ]
  },
  {
   "cell_type": "code",
   "execution_count": 4,
   "metadata": {
    "colab": {
     "base_uri": "https://localhost:8080/",
     "height": 366
    },
    "executionInfo": {
     "elapsed": 1657,
     "status": "ok",
     "timestamp": 1604474379692,
     "user": {
      "displayName": "Sujeet Kumar Mohanty",
      "photoUrl": "https://lh3.googleusercontent.com/a-/AOh14GjwtGccZda7gkTi1H2M4b_PTgZnlp61eAK6Ziuv3DM=s64",
      "userId": "15657594382625014443"
     },
     "user_tz": -330
    },
    "id": "WmWurS1WH-w9",
    "outputId": "9072b517-cdd4-412a-b3b8-5fb3bf02f020"
   },
   "outputs": [
    {
     "data": {
      "text/plain": [
       "array([[<matplotlib.axes._subplots.AxesSubplot object at 0x7fc662200e20>,\n",
       "        <matplotlib.axes._subplots.AxesSubplot object at 0x7fc66225e370>],\n",
       "       [<matplotlib.axes._subplots.AxesSubplot object at 0x7fc66228e7f0>,\n",
       "        <matplotlib.axes._subplots.AxesSubplot object at 0x7fc6622b9ca0>]],\n",
       "      dtype=object)"
      ]
     },
     "execution_count": 4,
     "metadata": {},
     "output_type": "execute_result"
    },
    {
     "data": {
      "image/png": "[encoded data removed]",
      "text/plain": [
       "<Figure size 432x288 with 4 Axes>"
      ]
     },
     "metadata": {
      "needs_background": "light"
     },
     "output_type": "display_data"
    }
   ],
   "source": [
    "df.hist()"
   ]
  },
  {
   "cell_type": "code",
   "execution_count": 5,
   "metadata": {
    "executionInfo": {
     "elapsed": 1814,
     "status": "ok",
     "timestamp": 1604474385902,
     "user": {
      "displayName": "Sujeet Kumar Mohanty",
      "photoUrl": "https://lh3.googleusercontent.com/a-/AOh14GjwtGccZda7gkTi1H2M4b_PTgZnlp61eAK6Ziuv3DM=s64",
      "userId": "15657594382625014443"
     },
     "user_tz": -330
    },
    "id": "NKXMyc61IBVq"
   },
   "outputs": [],
   "source": [
    "plt.show()"
   ]
  },
  {
   "cell_type": "code",
   "execution_count": null,
   "metadata": {
    "id": "fRA3MPXGIC5F"
   },
   "outputs": [],
   "source": []
  }
 ],
 "metadata": {
  "colab": {
   "authorship_tag": "ABX9TyNO8yyyntkbDrj2FW9pw7ax",
   "name": "DataVisualiationMatPlotLib2.ipynb",
   "provenance": []
  },
  "kernelspec": {
   "display_name": "Python 3",
   "language": "python",
   "name": "python3"
  },
  "language_info": {
   "codemirror_mode": {
    "name": "ipython",
    "version": 3
   },
   "file_extension": ".py",
   "mimetype": "text/x-python",
   "name": "python",
   "nbconvert_exporter": "python",
   "pygments_lexer": "ipython3",
   "version": "3.8.3"
  }
 },
 "nbformat": 4,
 "nbformat_minor": 1
}
