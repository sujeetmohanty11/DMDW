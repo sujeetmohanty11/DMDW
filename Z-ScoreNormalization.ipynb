{
 "cells": [
  {
   "cell_type": "code",
   "execution_count": 6,
   "metadata": {},
   "outputs": [
    {
     "name": "stdout",
     "output_type": "stream",
     "text": [
      "\n",
      "arr1 :  [[20, 2, 7, 1, 34], [50, 12, 12, 34, 4]]\n",
      "\n",
      "arr2 :  [[50, 12, 12, 34, 4], [12, 11, 10, 34, 21]]\n",
      "\n",
      "Z-score for arr1 : \n",
      " [[-1. -1. -1. -1.  1.]\n",
      " [ 1.  1.  1.  1. -1.]]\n",
      "\n",
      "Z-score for arr2 : \n",
      " [[ 1.62005758 -0.61045648 -0.61045648  0.68089376 -1.08003838]\n",
      " [-0.61601725 -0.72602033 -0.83602341  1.80405051  0.37401047]]\n"
     ]
    }
   ],
   "source": [
    "# stats.zscore() method \n",
    "import numpy as np \n",
    "from scipy import stats \n",
    "\t\n",
    "arr1 = [[20, 2, 7, 1, 34], \n",
    "\t\t[50, 12, 12, 34, 4]] \n",
    "\n",
    "arr2 = [[50, 12, 12, 34, 4], \n",
    "\t\t[12, 11, 10, 34, 21]] \n",
    "\n",
    "print (\"\\narr1 : \", arr1) \n",
    "print (\"\\narr2 : \", arr2) \n",
    "\n",
    "print (\"\\nZ-score for arr1 : \\n\", stats.zscore(arr1)) \n",
    "print (\"\\nZ-score for arr2 : \\n\", stats.zscore(arr2, axis = 1)) \n",
    "\n"
   ]
  },
  {
   "cell_type": "code",
   "execution_count": null,
   "metadata": {},
   "outputs": [],
   "source": []
  }
 ],
 "metadata": {
  "kernelspec": {
   "display_name": "Python 3",
   "language": "python",
   "name": "python3"
  },
  "language_info": {
   "codemirror_mode": {
    "name": "ipython",
    "version": 3
   },
   "file_extension": ".py",
   "mimetype": "text/x-python",
   "name": "python",
   "nbconvert_exporter": "python",
   "pygments_lexer": "ipython3",
   "version": "3.8.3"
  }
 },
 "nbformat": 4,
 "nbformat_minor": 4
}
