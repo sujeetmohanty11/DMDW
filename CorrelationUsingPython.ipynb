{
 "cells": [
  {
   "cell_type": "code",
   "execution_count": 1,
   "metadata": {},
   "outputs": [
    {
     "name": "stdout",
     "output_type": "stream",
     "text": [
      "Corelation Coefficient is  0.7102957400082588\n"
     ]
    }
   ],
   "source": [
    "import math\n",
    "Age = [23,23,27,27,39,41,47,49,50]\n",
    "fat = [9.5,26.5,7.8,17.8,31.4,25.9,27.4,27.2,31.2]\n",
    "mean_age = 0\n",
    "mean_fat = 0\n",
    "for i in range(9):\n",
    "    mean_age = mean_age + Age[i]\n",
    "    mean_fat = mean_fat + fat[i]\n",
    "mean_age = mean_age/9\n",
    "mean_fat = mean_fat/9\n",
    "\n",
    "Age1 = []\n",
    "fat1 = []\n",
    "for i in range(9):\n",
    "    Age1.append(Age[i]-mean_age)\n",
    "    fat1.append(fat[i]-mean_fat)\n",
    "Q1=0\n",
    "Q2=0\n",
    "Q=0\n",
    "for i in range(9):\n",
    "    Q1 = Q1 + Age1[i]*Age1[i]\n",
    "    Q2 = Q2 + fat1[i]*fat1[i]\n",
    "    Q = Q + Age1[i]*fat1[i]\n",
    "Q1 = math.sqrt(Q1)\n",
    "Q2 = math.sqrt(Q2)\n",
    "R = Q/(Q1*Q2)\n",
    "print(\"Corelation Coefficient is \",R)"
   ]
  },
  {
   "cell_type": "code",
   "execution_count": null,
   "metadata": {},
   "outputs": [],
   "source": []
  }
 ],
 "metadata": {
  "kernelspec": {
   "display_name": "Python 3",
   "language": "python",
   "name": "python3"
  },
  "language_info": {
   "codemirror_mode": {
    "name": "ipython",
    "version": 3
   },
   "file_extension": ".py",
   "mimetype": "text/x-python",
   "name": "python",
   "nbconvert_exporter": "python",
   "pygments_lexer": "ipython3",
   "version": "3.8.3"
  }
 },
 "nbformat": 4,
 "nbformat_minor": 4
}
