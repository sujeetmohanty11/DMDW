{
 "cells": [
  {
   "cell_type": "code",
   "execution_count": 1,
   "metadata": {
    "executionInfo": {
     "elapsed": 2393,
     "status": "ok",
     "timestamp": 1604473589431,
     "user": {
      "displayName": "Sujeet Kumar Mohanty",
      "photoUrl": "https://lh3.googleusercontent.com/a-/AOh14GjwtGccZda7gkTi1H2M4b_PTgZnlp61eAK6Ziuv3DM=s64",
      "userId": "15657594382625014443"
     },
     "user_tz": -330
    },
    "id": "xIwGXlWGEC42"
   },
   "outputs": [],
   "source": [
    "import numpy as np\n",
    "from matplotlib import pyplot as plt"
   ]
  },
  {
   "cell_type": "code",
   "execution_count": 2,
   "metadata": {
    "colab": {
     "base_uri": "https://localhost:8080/"
    },
    "executionInfo": {
     "elapsed": 2659,
     "status": "ok",
     "timestamp": 1604473609349,
     "user": {
      "displayName": "Sujeet Kumar Mohanty",
      "photoUrl": "https://lh3.googleusercontent.com/a-/AOh14GjwtGccZda7gkTi1H2M4b_PTgZnlp61eAK6Ziuv3DM=s64",
      "userId": "15657594382625014443"
     },
     "user_tz": -330
    },
    "id": "uIkNZKHnFATk",
    "outputId": "1fb9a995-1730-4ea2-cd47-7c8a30ca2a2c"
   },
   "outputs": [
    {
     "data": {
      "text/plain": [
       "array([ 1,  2,  3,  4,  5,  6,  7,  8,  9, 10])"
      ]
     },
     "execution_count": 2,
     "metadata": {},
     "output_type": "execute_result"
    }
   ],
   "source": [
    "x = np.arange(1,11)\n",
    "x"
   ]
  },
  {
   "cell_type": "code",
   "execution_count": 3,
   "metadata": {
    "colab": {
     "base_uri": "https://localhost:8080/"
    },
    "executionInfo": {
     "elapsed": 1432,
     "status": "ok",
     "timestamp": 1604473620362,
     "user": {
      "displayName": "Sujeet Kumar Mohanty",
      "photoUrl": "https://lh3.googleusercontent.com/a-/AOh14GjwtGccZda7gkTi1H2M4b_PTgZnlp61eAK6Ziuv3DM=s64",
      "userId": "15657594382625014443"
     },
     "user_tz": -330
    },
    "id": "wQMhDlmUFFGy",
    "outputId": "f70c66e5-ec1f-442c-dd7d-9c5a986faaef"
   },
   "outputs": [
    {
     "data": {
      "text/plain": [
       "array([ 2,  4,  6,  8, 10, 12, 14, 16, 18, 20])"
      ]
     },
     "execution_count": 3,
     "metadata": {},
     "output_type": "execute_result"
    }
   ],
   "source": [
    "y = 2 * x\n",
    "y"
   ]
  },
  {
   "cell_type": "code",
   "execution_count": 4,
   "metadata": {
    "colab": {
     "base_uri": "https://localhost:8080/",
     "height": 265
    },
    "executionInfo": {
     "elapsed": 1309,
     "status": "ok",
     "timestamp": 1604473637685,
     "user": {
      "displayName": "Sujeet Kumar Mohanty",
      "photoUrl": "https://lh3.googleusercontent.com/a-/AOh14GjwtGccZda7gkTi1H2M4b_PTgZnlp61eAK6Ziuv3DM=s64",
      "userId": "15657594382625014443"
     },
     "user_tz": -330
    },
    "id": "uRLbjxagFICS",
    "outputId": "f5ac3dee-cdb9-43dc-f297-7f3336055bc5"
   },
   "outputs": [
    {
     "data": {
      "image/png": "[encoded data removed]",
      "text/plain": [
       "<Figure size 432x288 with 1 Axes>"
      ]
     },
     "metadata": {
      "needs_background": "light"
     },
     "output_type": "display_data"
    }
   ],
   "source": [
    "plt.plot(x,y)\n",
    "plt.show()"
   ]
  },
  {
   "cell_type": "code",
   "execution_count": null,
   "metadata": {},
   "outputs": [],
   "source": []
  }
 ],
 "metadata": {
  "colab": {
   "authorship_tag": "ABX9TyPbRfsHebLHbuW0gto/LvzQ",
   "name": "DataVisualiationMatPlotLib1.ipynb",
   "provenance": []
  },
  "kernelspec": {
   "display_name": "Python 3",
   "language": "python",
   "name": "python3"
  },
  "language_info": {
   "codemirror_mode": {
    "name": "ipython",
    "version": 3
   },
   "file_extension": ".py",
   "mimetype": "text/x-python",
   "name": "python",
   "nbconvert_exporter": "python",
   "pygments_lexer": "ipython3",
   "version": "3.8.3"
  }
 },
 "nbformat": 4,
 "nbformat_minor": 1
}
